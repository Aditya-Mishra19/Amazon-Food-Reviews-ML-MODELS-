{
 "cells": [
  {
   "cell_type": "markdown",
   "source": [
    "# Amazon Fine Food Reviews Analysis\n",
    "\n",
    "\n",
    "Data Source: https://www.kaggle.com/snap/amazon-fine-food-reviews <br>\n",
    "\n",
    "EDA: https://nycdatascience.com/blog/student-works/amazon-fine-foods-visualization/\n",
    "\n",
    "\n",
    "The Amazon Fine Food Reviews dataset consists of reviews of fine foods from Amazon.<br>\n",
    "\n",
    "Number of reviews: 568,454<br>\n",
    "Number of users: 256,059<br>\n",
    "Number of products: 74,258<br>\n",
    "Timespan: Oct 1999 - Oct 2012<br>\n",
    "Number of Attributes/Columns in data: 10 \n",
    "\n",
    "Attribute Information:\n",
    "\n",
    "1. Id\n",
    "2. ProductId - unique identifier for the product\n",
    "3. UserId - unqiue identifier for the user\n",
    "4. ProfileName\n",
    "5. HelpfulnessNumerator - number of users who found the review helpful\n",
    "6. HelpfulnessDenominator - number of users who indicated whether they found the review helpful or not\n",
    "7. Score - rating between 1 and 5\n",
    "8. Time - timestamp for the review\n",
    "9. Summary - brief summary of the review\n",
    "10. Text - text of the review\n",
    "\n",
    "\n",
    "#### Objective:\n",
    "Given a review, determine whether the review is positive (rating of 4 or 5) or negative (rating of 1 or 2).\n",
    "\n",
    "<br>\n",
    "[Q] How to determine if a review is positive or negative?<br>\n",
    "<br> \n",
    "[Ans] We could use Score/Rating. A rating of 4 or 5 can be cosnidered as a positive review. A rating of 1 or 2 can be considered as negative one. A review of rating 3 is considered nuetral and such reviews are ignored from our analysis. This is an approximate and proxy way of determining the polarity (positivity/negativity) of a review.\n",
    "\n",
    "\n"
   ],
   "metadata": {
    "colab_type": "text",
    "id": "AM7jsfwALPlp"
   }
  },
  {
   "cell_type": "markdown",
   "source": [
    "# [1]. Reading Data"
   ],
   "metadata": {
    "colab_type": "text",
    "id": "CaQ7XJ4OLPls"
   }
  },
  {
   "cell_type": "markdown",
   "source": [
    "## [1.1] Loading the data\n",
    "\n",
    "The dataset is available in two forms\n",
    "1. .csv file\n",
    "2. SQLite Database\n",
    "\n",
    "In order to load the data, We have used the SQLITE dataset as it is easier to query the data and visualise the data efficiently.\n",
    "<br> \n",
    "\n",
    "Here as we only want to get the global sentiment of the recommendations (positive or negative), we will purposefully ignore all Scores equal to 3. If the score is above 3, then the recommendation wil be set to \"positive\". Otherwise, it will be set to \"negative\"."
   ],
   "metadata": {
    "colab_type": "text",
    "id": "5VnEBjKRLPlu"
   }
  },
  {
   "cell_type": "code",
   "execution_count": 1,
   "source": [
    "%matplotlib inline\n",
    "import warnings\n",
    "warnings.filterwarnings(\"ignore\")\n",
    "\n",
    "\n",
    "import sqlite3\n",
    "import pandas as pd\n",
    "import numpy as np\n",
    "import nltk\n",
    "import string\n",
    "import matplotlib.pyplot as plt\n",
    "import seaborn as sns\n",
    "from sklearn.feature_extraction.text import TfidfTransformer\n",
    "from sklearn.feature_extraction.text import TfidfVectorizer\n",
    "\n",
    "from sklearn.feature_extraction.text import CountVectorizer\n",
    "from sklearn.metrics import confusion_matrix\n",
    "from sklearn import metrics\n",
    "from sklearn.metrics import roc_curve, auc\n",
    "from nltk.stem.porter import PorterStemmer\n",
    "\n",
    "import re\n",
    "# Tutorial about Python regular expressions: https://pymotw.com/2/re/\n",
    "import string\n",
    "from nltk.corpus import stopwords\n",
    "from nltk.stem import PorterStemmer\n",
    "from nltk.stem.wordnet import WordNetLemmatizer\n",
    "\n",
    "from gensim.models import Word2Vec\n",
    "from gensim.models import KeyedVectors\n",
    "import pickle\n",
    "\n",
    "from tqdm import tqdm\n",
    "import os"
   ],
   "outputs": [],
   "metadata": {
    "colab": {},
    "colab_type": "code",
    "id": "x6YclOzXLPlv"
   }
  },
  {
   "cell_type": "code",
   "execution_count": 2,
   "source": [
    "# using SQLite Table to read data.\n",
    "con = sqlite3.connect('database.sqlite') \n",
    "\n",
    "# filtering only positive and negative reviews i.e. \n",
    "# not taking into consideration those reviews with Score=3\n",
    "# SELECT * FROM Reviews WHERE Score != 3 LIMIT 500000, will give top 500000 data points\n",
    "# you can change the number to any other number based on your computing power\n",
    "\n",
    "# filtered_data = pd.read_sql_query(\"\"\" SELECT * FROM Reviews WHERE Score != 3 LIMIT 500000\"\"\", con) \n",
    "# for tsne assignment you can take 5k data points\n",
    "\n",
    "filtered_data = pd.read_sql_query(\"\"\" SELECT * FROM Reviews WHERE Score != 3 LIMIT 10000\"\"\", con) \n",
    "\n",
    "# Give reviews with Score>3 a positive rating(1), and reviews with a score<3 a negative rating(0).\n",
    "def partition(x):\n",
    "    if x < 3:\n",
    "        return 0\n",
    "    return 1\n",
    "\n",
    "#changing reviews with score less than 3 to be positive and vice-versa\n",
    "actualScore = filtered_data['Score']\n",
    "positiveNegative = actualScore.map(partition) \n",
    "filtered_data['Score'] = positiveNegative\n",
    "print(\"Number of data points in our data\", filtered_data.shape)\n",
    "filtered_data.head(3)"
   ],
   "outputs": [
    {
     "output_type": "stream",
     "name": "stdout",
     "text": [
      "Number of data points in our data (10000, 10)\n"
     ]
    },
    {
     "output_type": "execute_result",
     "data": {
      "text/plain": [
       "   Id   ProductId          UserId                      ProfileName  \\\n",
       "0   1  B001E4KFG0  A3SGXH7AUHU8GW                       delmartian   \n",
       "1   2  B00813GRG4  A1D87F6ZCVE5NK                           dll pa   \n",
       "2   3  B000LQOCH0   ABXLMWJIXXAIN  Natalia Corres \"Natalia Corres\"   \n",
       "\n",
       "   HelpfulnessNumerator  HelpfulnessDenominator  Score        Time  \\\n",
       "0                     1                       1      1  1303862400   \n",
       "1                     0                       0      0  1346976000   \n",
       "2                     1                       1      1  1219017600   \n",
       "\n",
       "                 Summary                                               Text  \n",
       "0  Good Quality Dog Food  I have bought several of the Vitality canned d...  \n",
       "1      Not as Advertised  Product arrived labeled as Jumbo Salted Peanut...  \n",
       "2  \"Delight\" says it all  This is a confection that has been around a fe...  "
      ],
      "text/html": [
       "<div>\n",
       "<style scoped>\n",
       "    .dataframe tbody tr th:only-of-type {\n",
       "        vertical-align: middle;\n",
       "    }\n",
       "\n",
       "    .dataframe tbody tr th {\n",
       "        vertical-align: top;\n",
       "    }\n",
       "\n",
       "    .dataframe thead th {\n",
       "        text-align: right;\n",
       "    }\n",
       "</style>\n",
       "<table border=\"1\" class=\"dataframe\">\n",
       "  <thead>\n",
       "    <tr style=\"text-align: right;\">\n",
       "      <th></th>\n",
       "      <th>Id</th>\n",
       "      <th>ProductId</th>\n",
       "      <th>UserId</th>\n",
       "      <th>ProfileName</th>\n",
       "      <th>HelpfulnessNumerator</th>\n",
       "      <th>HelpfulnessDenominator</th>\n",
       "      <th>Score</th>\n",
       "      <th>Time</th>\n",
       "      <th>Summary</th>\n",
       "      <th>Text</th>\n",
       "    </tr>\n",
       "  </thead>\n",
       "  <tbody>\n",
       "    <tr>\n",
       "      <th>0</th>\n",
       "      <td>1</td>\n",
       "      <td>B001E4KFG0</td>\n",
       "      <td>A3SGXH7AUHU8GW</td>\n",
       "      <td>delmartian</td>\n",
       "      <td>1</td>\n",
       "      <td>1</td>\n",
       "      <td>1</td>\n",
       "      <td>1303862400</td>\n",
       "      <td>Good Quality Dog Food</td>\n",
       "      <td>I have bought several of the Vitality canned d...</td>\n",
       "    </tr>\n",
       "    <tr>\n",
       "      <th>1</th>\n",
       "      <td>2</td>\n",
       "      <td>B00813GRG4</td>\n",
       "      <td>A1D87F6ZCVE5NK</td>\n",
       "      <td>dll pa</td>\n",
       "      <td>0</td>\n",
       "      <td>0</td>\n",
       "      <td>0</td>\n",
       "      <td>1346976000</td>\n",
       "      <td>Not as Advertised</td>\n",
       "      <td>Product arrived labeled as Jumbo Salted Peanut...</td>\n",
       "    </tr>\n",
       "    <tr>\n",
       "      <th>2</th>\n",
       "      <td>3</td>\n",
       "      <td>B000LQOCH0</td>\n",
       "      <td>ABXLMWJIXXAIN</td>\n",
       "      <td>Natalia Corres \"Natalia Corres\"</td>\n",
       "      <td>1</td>\n",
       "      <td>1</td>\n",
       "      <td>1</td>\n",
       "      <td>1219017600</td>\n",
       "      <td>\"Delight\" says it all</td>\n",
       "      <td>This is a confection that has been around a fe...</td>\n",
       "    </tr>\n",
       "  </tbody>\n",
       "</table>\n",
       "</div>"
      ]
     },
     "metadata": {},
     "execution_count": 2
    }
   ],
   "metadata": {
    "colab": {},
    "colab_type": "code",
    "id": "NZ4OSpSiLPl0",
    "outputId": "241c4c64-6186-4351-e38f-fcd06c6896dd"
   }
  },
  {
   "cell_type": "code",
   "execution_count": 3,
   "source": [
    "display = pd.read_sql_query(\"\"\"\n",
    "SELECT UserId, ProductId, ProfileName, Time, Score, Text, COUNT(*)\n",
    "FROM Reviews\n",
    "GROUP BY UserId\n",
    "HAVING COUNT(*)>1\n",
    "\"\"\", con)"
   ],
   "outputs": [],
   "metadata": {
    "colab": {},
    "colab_type": "code",
    "id": "r44Y4VDjLPl7"
   }
  },
  {
   "cell_type": "code",
   "execution_count": 4,
   "source": [
    "print(display.shape)\n",
    "display.head()"
   ],
   "outputs": [
    {
     "output_type": "stream",
     "name": "stdout",
     "text": [
      "(80668, 7)\n"
     ]
    },
    {
     "output_type": "execute_result",
     "data": {
      "text/plain": [
       "               UserId   ProductId             ProfileName        Time  Score  \\\n",
       "0  #oc-R115TNMSPFT9I7  B005ZBZLT4                 Breyton  1331510400      2   \n",
       "1  #oc-R11D9D7SHXIJB9  B005HG9ESG  Louis E. Emory \"hoppy\"  1342396800      5   \n",
       "2  #oc-R11DNU2NBKQ23Z  B005ZBZLT4        Kim Cieszykowski  1348531200      1   \n",
       "3  #oc-R11O5J5ZVQE25C  B005HG9ESG           Penguin Chick  1346889600      5   \n",
       "4  #oc-R12KPBODL2B5ZD  B007OSBEV0   Christopher P. Presta  1348617600      1   \n",
       "\n",
       "                                                Text  COUNT(*)  \n",
       "0  Overall its just OK when considering the price...         2  \n",
       "1  My wife has recurring extreme muscle spasms, u...         3  \n",
       "2  This coffee is horrible and unfortunately not ...         2  \n",
       "3  This will be the bottle that you grab from the...         3  \n",
       "4  I didnt like this coffee. Instead of telling y...         2  "
      ],
      "text/html": [
       "<div>\n",
       "<style scoped>\n",
       "    .dataframe tbody tr th:only-of-type {\n",
       "        vertical-align: middle;\n",
       "    }\n",
       "\n",
       "    .dataframe tbody tr th {\n",
       "        vertical-align: top;\n",
       "    }\n",
       "\n",
       "    .dataframe thead th {\n",
       "        text-align: right;\n",
       "    }\n",
       "</style>\n",
       "<table border=\"1\" class=\"dataframe\">\n",
       "  <thead>\n",
       "    <tr style=\"text-align: right;\">\n",
       "      <th></th>\n",
       "      <th>UserId</th>\n",
       "      <th>ProductId</th>\n",
       "      <th>ProfileName</th>\n",
       "      <th>Time</th>\n",
       "      <th>Score</th>\n",
       "      <th>Text</th>\n",
       "      <th>COUNT(*)</th>\n",
       "    </tr>\n",
       "  </thead>\n",
       "  <tbody>\n",
       "    <tr>\n",
       "      <th>0</th>\n",
       "      <td>#oc-R115TNMSPFT9I7</td>\n",
       "      <td>B005ZBZLT4</td>\n",
       "      <td>Breyton</td>\n",
       "      <td>1331510400</td>\n",
       "      <td>2</td>\n",
       "      <td>Overall its just OK when considering the price...</td>\n",
       "      <td>2</td>\n",
       "    </tr>\n",
       "    <tr>\n",
       "      <th>1</th>\n",
       "      <td>#oc-R11D9D7SHXIJB9</td>\n",
       "      <td>B005HG9ESG</td>\n",
       "      <td>Louis E. Emory \"hoppy\"</td>\n",
       "      <td>1342396800</td>\n",
       "      <td>5</td>\n",
       "      <td>My wife has recurring extreme muscle spasms, u...</td>\n",
       "      <td>3</td>\n",
       "    </tr>\n",
       "    <tr>\n",
       "      <th>2</th>\n",
       "      <td>#oc-R11DNU2NBKQ23Z</td>\n",
       "      <td>B005ZBZLT4</td>\n",
       "      <td>Kim Cieszykowski</td>\n",
       "      <td>1348531200</td>\n",
       "      <td>1</td>\n",
       "      <td>This coffee is horrible and unfortunately not ...</td>\n",
       "      <td>2</td>\n",
       "    </tr>\n",
       "    <tr>\n",
       "      <th>3</th>\n",
       "      <td>#oc-R11O5J5ZVQE25C</td>\n",
       "      <td>B005HG9ESG</td>\n",
       "      <td>Penguin Chick</td>\n",
       "      <td>1346889600</td>\n",
       "      <td>5</td>\n",
       "      <td>This will be the bottle that you grab from the...</td>\n",
       "      <td>3</td>\n",
       "    </tr>\n",
       "    <tr>\n",
       "      <th>4</th>\n",
       "      <td>#oc-R12KPBODL2B5ZD</td>\n",
       "      <td>B007OSBEV0</td>\n",
       "      <td>Christopher P. Presta</td>\n",
       "      <td>1348617600</td>\n",
       "      <td>1</td>\n",
       "      <td>I didnt like this coffee. Instead of telling y...</td>\n",
       "      <td>2</td>\n",
       "    </tr>\n",
       "  </tbody>\n",
       "</table>\n",
       "</div>"
      ]
     },
     "metadata": {},
     "execution_count": 4
    }
   ],
   "metadata": {
    "colab": {},
    "colab_type": "code",
    "id": "tTwINQv1LPl_",
    "outputId": "0385b9ca-0a35-4c2b-b656-8e8494414e6f",
    "scrolled": true
   }
  },
  {
   "cell_type": "code",
   "execution_count": 5,
   "source": [
    "display[display['UserId']=='AZY10LLTJ71NX']"
   ],
   "outputs": [
    {
     "output_type": "execute_result",
     "data": {
      "text/plain": [
       "              UserId   ProductId                      ProfileName        Time  \\\n",
       "80638  AZY10LLTJ71NX  B001ATMQK2  undertheshrine \"undertheshrine\"  1296691200   \n",
       "\n",
       "       Score                                               Text  COUNT(*)  \n",
       "80638      5  I bought this 6 pack because for the price tha...         5  "
      ],
      "text/html": [
       "<div>\n",
       "<style scoped>\n",
       "    .dataframe tbody tr th:only-of-type {\n",
       "        vertical-align: middle;\n",
       "    }\n",
       "\n",
       "    .dataframe tbody tr th {\n",
       "        vertical-align: top;\n",
       "    }\n",
       "\n",
       "    .dataframe thead th {\n",
       "        text-align: right;\n",
       "    }\n",
       "</style>\n",
       "<table border=\"1\" class=\"dataframe\">\n",
       "  <thead>\n",
       "    <tr style=\"text-align: right;\">\n",
       "      <th></th>\n",
       "      <th>UserId</th>\n",
       "      <th>ProductId</th>\n",
       "      <th>ProfileName</th>\n",
       "      <th>Time</th>\n",
       "      <th>Score</th>\n",
       "      <th>Text</th>\n",
       "      <th>COUNT(*)</th>\n",
       "    </tr>\n",
       "  </thead>\n",
       "  <tbody>\n",
       "    <tr>\n",
       "      <th>80638</th>\n",
       "      <td>AZY10LLTJ71NX</td>\n",
       "      <td>B001ATMQK2</td>\n",
       "      <td>undertheshrine \"undertheshrine\"</td>\n",
       "      <td>1296691200</td>\n",
       "      <td>5</td>\n",
       "      <td>I bought this 6 pack because for the price tha...</td>\n",
       "      <td>5</td>\n",
       "    </tr>\n",
       "  </tbody>\n",
       "</table>\n",
       "</div>"
      ]
     },
     "metadata": {},
     "execution_count": 5
    }
   ],
   "metadata": {
    "colab": {},
    "colab_type": "code",
    "id": "EOslHQgnLPmF",
    "outputId": "cb28598d-470a-42bb-e742-4763f953c8cb"
   }
  },
  {
   "cell_type": "code",
   "execution_count": 6,
   "source": [
    "display['COUNT(*)'].sum()"
   ],
   "outputs": [
    {
     "output_type": "execute_result",
     "data": {
      "text/plain": [
       "393063"
      ]
     },
     "metadata": {},
     "execution_count": 6
    }
   ],
   "metadata": {
    "colab": {},
    "colab_type": "code",
    "id": "pSwF4sdoLPmM",
    "outputId": "2f3bd7f2-0eea-45f7-eab6-bf08c630d9a3"
   }
  },
  {
   "cell_type": "markdown",
   "source": [
    "#  [2] Exploratory Data Analysis"
   ],
   "metadata": {
    "colab_type": "text",
    "id": "PuNkhjz0LPmQ"
   }
  },
  {
   "cell_type": "markdown",
   "source": [
    "## [2.1] Data Cleaning: Deduplication\n",
    "\n",
    "It is observed (as shown in the table below) that the reviews data had many duplicate entries. Hence it was necessary to remove duplicates in order to get unbiased results for the analysis of the data.  Following is an example:"
   ],
   "metadata": {
    "colab_type": "text",
    "id": "oCJaTWrTLPmS"
   }
  },
  {
   "cell_type": "code",
   "execution_count": 7,
   "source": [
    "display= pd.read_sql_query(\"\"\"\n",
    "SELECT *\n",
    "FROM Reviews\n",
    "WHERE Score != 3 AND UserId=\"AR5J8UI46CURR\"\n",
    "ORDER BY ProductID\n",
    "\"\"\", con)\n",
    "display.head()"
   ],
   "outputs": [
    {
     "output_type": "execute_result",
     "data": {
      "text/plain": [
       "       Id   ProductId         UserId      ProfileName  HelpfulnessNumerator  \\\n",
       "0   78445  B000HDL1RQ  AR5J8UI46CURR  Geetha Krishnan                     2   \n",
       "1  138317  B000HDOPYC  AR5J8UI46CURR  Geetha Krishnan                     2   \n",
       "2  138277  B000HDOPYM  AR5J8UI46CURR  Geetha Krishnan                     2   \n",
       "3   73791  B000HDOPZG  AR5J8UI46CURR  Geetha Krishnan                     2   \n",
       "4  155049  B000PAQ75C  AR5J8UI46CURR  Geetha Krishnan                     2   \n",
       "\n",
       "   HelpfulnessDenominator  Score        Time  \\\n",
       "0                       2      5  1199577600   \n",
       "1                       2      5  1199577600   \n",
       "2                       2      5  1199577600   \n",
       "3                       2      5  1199577600   \n",
       "4                       2      5  1199577600   \n",
       "\n",
       "                             Summary  \\\n",
       "0  LOACKER QUADRATINI VANILLA WAFERS   \n",
       "1  LOACKER QUADRATINI VANILLA WAFERS   \n",
       "2  LOACKER QUADRATINI VANILLA WAFERS   \n",
       "3  LOACKER QUADRATINI VANILLA WAFERS   \n",
       "4  LOACKER QUADRATINI VANILLA WAFERS   \n",
       "\n",
       "                                                Text  \n",
       "0  DELICIOUS WAFERS. I FIND THAT EUROPEAN WAFERS ...  \n",
       "1  DELICIOUS WAFERS. I FIND THAT EUROPEAN WAFERS ...  \n",
       "2  DELICIOUS WAFERS. I FIND THAT EUROPEAN WAFERS ...  \n",
       "3  DELICIOUS WAFERS. I FIND THAT EUROPEAN WAFERS ...  \n",
       "4  DELICIOUS WAFERS. I FIND THAT EUROPEAN WAFERS ...  "
      ],
      "text/html": [
       "<div>\n",
       "<style scoped>\n",
       "    .dataframe tbody tr th:only-of-type {\n",
       "        vertical-align: middle;\n",
       "    }\n",
       "\n",
       "    .dataframe tbody tr th {\n",
       "        vertical-align: top;\n",
       "    }\n",
       "\n",
       "    .dataframe thead th {\n",
       "        text-align: right;\n",
       "    }\n",
       "</style>\n",
       "<table border=\"1\" class=\"dataframe\">\n",
       "  <thead>\n",
       "    <tr style=\"text-align: right;\">\n",
       "      <th></th>\n",
       "      <th>Id</th>\n",
       "      <th>ProductId</th>\n",
       "      <th>UserId</th>\n",
       "      <th>ProfileName</th>\n",
       "      <th>HelpfulnessNumerator</th>\n",
       "      <th>HelpfulnessDenominator</th>\n",
       "      <th>Score</th>\n",
       "      <th>Time</th>\n",
       "      <th>Summary</th>\n",
       "      <th>Text</th>\n",
       "    </tr>\n",
       "  </thead>\n",
       "  <tbody>\n",
       "    <tr>\n",
       "      <th>0</th>\n",
       "      <td>78445</td>\n",
       "      <td>B000HDL1RQ</td>\n",
       "      <td>AR5J8UI46CURR</td>\n",
       "      <td>Geetha Krishnan</td>\n",
       "      <td>2</td>\n",
       "      <td>2</td>\n",
       "      <td>5</td>\n",
       "      <td>1199577600</td>\n",
       "      <td>LOACKER QUADRATINI VANILLA WAFERS</td>\n",
       "      <td>DELICIOUS WAFERS. I FIND THAT EUROPEAN WAFERS ...</td>\n",
       "    </tr>\n",
       "    <tr>\n",
       "      <th>1</th>\n",
       "      <td>138317</td>\n",
       "      <td>B000HDOPYC</td>\n",
       "      <td>AR5J8UI46CURR</td>\n",
       "      <td>Geetha Krishnan</td>\n",
       "      <td>2</td>\n",
       "      <td>2</td>\n",
       "      <td>5</td>\n",
       "      <td>1199577600</td>\n",
       "      <td>LOACKER QUADRATINI VANILLA WAFERS</td>\n",
       "      <td>DELICIOUS WAFERS. I FIND THAT EUROPEAN WAFERS ...</td>\n",
       "    </tr>\n",
       "    <tr>\n",
       "      <th>2</th>\n",
       "      <td>138277</td>\n",
       "      <td>B000HDOPYM</td>\n",
       "      <td>AR5J8UI46CURR</td>\n",
       "      <td>Geetha Krishnan</td>\n",
       "      <td>2</td>\n",
       "      <td>2</td>\n",
       "      <td>5</td>\n",
       "      <td>1199577600</td>\n",
       "      <td>LOACKER QUADRATINI VANILLA WAFERS</td>\n",
       "      <td>DELICIOUS WAFERS. I FIND THAT EUROPEAN WAFERS ...</td>\n",
       "    </tr>\n",
       "    <tr>\n",
       "      <th>3</th>\n",
       "      <td>73791</td>\n",
       "      <td>B000HDOPZG</td>\n",
       "      <td>AR5J8UI46CURR</td>\n",
       "      <td>Geetha Krishnan</td>\n",
       "      <td>2</td>\n",
       "      <td>2</td>\n",
       "      <td>5</td>\n",
       "      <td>1199577600</td>\n",
       "      <td>LOACKER QUADRATINI VANILLA WAFERS</td>\n",
       "      <td>DELICIOUS WAFERS. I FIND THAT EUROPEAN WAFERS ...</td>\n",
       "    </tr>\n",
       "    <tr>\n",
       "      <th>4</th>\n",
       "      <td>155049</td>\n",
       "      <td>B000PAQ75C</td>\n",
       "      <td>AR5J8UI46CURR</td>\n",
       "      <td>Geetha Krishnan</td>\n",
       "      <td>2</td>\n",
       "      <td>2</td>\n",
       "      <td>5</td>\n",
       "      <td>1199577600</td>\n",
       "      <td>LOACKER QUADRATINI VANILLA WAFERS</td>\n",
       "      <td>DELICIOUS WAFERS. I FIND THAT EUROPEAN WAFERS ...</td>\n",
       "    </tr>\n",
       "  </tbody>\n",
       "</table>\n",
       "</div>"
      ]
     },
     "metadata": {},
     "execution_count": 7
    }
   ],
   "metadata": {
    "colab": {},
    "colab_type": "code",
    "id": "3lvzRwWVLPmT",
    "outputId": "96ba6f90-6c40-4972-ecd2-d2d208e48877",
    "scrolled": false
   }
  },
  {
   "cell_type": "markdown",
   "source": [
    "As it can be seen above that same user has multiple reviews with same values for HelpfulnessNumerator, HelpfulnessDenominator, Score, Time, Summary and Text and on doing analysis it was found that <br>\n",
    "<br> \n",
    "ProductId=B000HDOPZG was Loacker Quadratini Vanilla Wafer Cookies, 8.82-Ounce Packages (Pack of 8)<br>\n",
    "<br> \n",
    "ProductId=B000HDL1RQ was Loacker Quadratini Lemon Wafer Cookies, 8.82-Ounce Packages (Pack of 8) and so on<br>\n",
    "\n",
    "It was inferred after analysis that reviews with same parameters other than ProductId belonged to the same product just having different flavour or quantity. Hence in order to reduce redundancy it was decided to eliminate the rows having same parameters.<br>\n",
    "\n",
    "The method used for the same was that we first sort the data according to ProductId and then just keep the first similar product review and delelte the others. for eg. in the above just the review for ProductId=B000HDL1RQ remains. This method ensures that there is only one representative for each product and deduplication without sorting would lead to possibility of different representatives still existing for the same product."
   ],
   "metadata": {
    "colab_type": "text",
    "id": "uT7p9_deLPmb"
   }
  },
  {
   "cell_type": "code",
   "execution_count": 8,
   "source": [
    "#Sorting data according to ProductId in ascending order\n",
    "sorted_data=filtered_data.sort_values('ProductId', axis=0, ascending=True, inplace=False, kind='quicksort', na_position='last')"
   ],
   "outputs": [],
   "metadata": {
    "colab": {},
    "colab_type": "code",
    "id": "mdsKFc50LPme"
   }
  },
  {
   "cell_type": "code",
   "execution_count": 9,
   "source": [
    "#Deduplication of entries\n",
    "final=sorted_data.drop_duplicates(subset={\"UserId\",\"ProfileName\",\"Time\",\"Text\"}, keep='first', inplace=False)\n",
    "final.shape"
   ],
   "outputs": [
    {
     "output_type": "execute_result",
     "data": {
      "text/plain": [
       "(9564, 10)"
      ]
     },
     "metadata": {},
     "execution_count": 9
    }
   ],
   "metadata": {
    "colab": {},
    "colab_type": "code",
    "id": "2itLgX-NLPmk",
    "outputId": "ac765625-dfdc-4e4e-f886-bd3b7ca3635a"
   }
  },
  {
   "cell_type": "code",
   "execution_count": 10,
   "source": [
    "#Checking to see how much % of data still remains\n",
    "(final['Id'].size*1.0)/(filtered_data['Id'].size*1.0)*100"
   ],
   "outputs": [
    {
     "output_type": "execute_result",
     "data": {
      "text/plain": [
       "95.64"
      ]
     },
     "metadata": {},
     "execution_count": 10
    }
   ],
   "metadata": {
    "colab": {},
    "colab_type": "code",
    "id": "IBU4iZk4LPmt",
    "outputId": "ceeba223-fe3f-407a-b4e5-0d46c08f69dd"
   }
  },
  {
   "cell_type": "markdown",
   "source": [
    "<b>Observation:-</b> It was also seen that in two rows given below the value of HelpfulnessNumerator is greater than HelpfulnessDenominator which is not practically possible hence these two rows too are removed from calcualtions"
   ],
   "metadata": {
    "colab_type": "text",
    "id": "gFBOfSe4LPmy"
   }
  },
  {
   "cell_type": "code",
   "execution_count": 11,
   "source": [
    "display= pd.read_sql_query(\"\"\"\n",
    "SELECT *\n",
    "FROM Reviews\n",
    "WHERE Score != 3 AND Id=44737 OR Id=64422\n",
    "ORDER BY ProductID\n",
    "\"\"\", con)\n",
    "\n",
    "display.head()"
   ],
   "outputs": [
    {
     "output_type": "execute_result",
     "data": {
      "text/plain": [
       "      Id   ProductId          UserId              ProfileName  \\\n",
       "0  64422  B000MIDROQ  A161DK06JJMCYF  J. E. Stephens \"Jeanne\"   \n",
       "1  44737  B001EQ55RW  A2V0I904FH7ABY                      Ram   \n",
       "\n",
       "   HelpfulnessNumerator  HelpfulnessDenominator  Score        Time  \\\n",
       "0                     3                       1      5  1224892800   \n",
       "1                     3                       2      4  1212883200   \n",
       "\n",
       "                                        Summary  \\\n",
       "0             Bought This for My Son at College   \n",
       "1  Pure cocoa taste with crunchy almonds inside   \n",
       "\n",
       "                                                Text  \n",
       "0  My son loves spaghetti so I didn't hesitate or...  \n",
       "1  It was almost a 'love at first bite' - the per...  "
      ],
      "text/html": [
       "<div>\n",
       "<style scoped>\n",
       "    .dataframe tbody tr th:only-of-type {\n",
       "        vertical-align: middle;\n",
       "    }\n",
       "\n",
       "    .dataframe tbody tr th {\n",
       "        vertical-align: top;\n",
       "    }\n",
       "\n",
       "    .dataframe thead th {\n",
       "        text-align: right;\n",
       "    }\n",
       "</style>\n",
       "<table border=\"1\" class=\"dataframe\">\n",
       "  <thead>\n",
       "    <tr style=\"text-align: right;\">\n",
       "      <th></th>\n",
       "      <th>Id</th>\n",
       "      <th>ProductId</th>\n",
       "      <th>UserId</th>\n",
       "      <th>ProfileName</th>\n",
       "      <th>HelpfulnessNumerator</th>\n",
       "      <th>HelpfulnessDenominator</th>\n",
       "      <th>Score</th>\n",
       "      <th>Time</th>\n",
       "      <th>Summary</th>\n",
       "      <th>Text</th>\n",
       "    </tr>\n",
       "  </thead>\n",
       "  <tbody>\n",
       "    <tr>\n",
       "      <th>0</th>\n",
       "      <td>64422</td>\n",
       "      <td>B000MIDROQ</td>\n",
       "      <td>A161DK06JJMCYF</td>\n",
       "      <td>J. E. Stephens \"Jeanne\"</td>\n",
       "      <td>3</td>\n",
       "      <td>1</td>\n",
       "      <td>5</td>\n",
       "      <td>1224892800</td>\n",
       "      <td>Bought This for My Son at College</td>\n",
       "      <td>My son loves spaghetti so I didn't hesitate or...</td>\n",
       "    </tr>\n",
       "    <tr>\n",
       "      <th>1</th>\n",
       "      <td>44737</td>\n",
       "      <td>B001EQ55RW</td>\n",
       "      <td>A2V0I904FH7ABY</td>\n",
       "      <td>Ram</td>\n",
       "      <td>3</td>\n",
       "      <td>2</td>\n",
       "      <td>4</td>\n",
       "      <td>1212883200</td>\n",
       "      <td>Pure cocoa taste with crunchy almonds inside</td>\n",
       "      <td>It was almost a 'love at first bite' - the per...</td>\n",
       "    </tr>\n",
       "  </tbody>\n",
       "</table>\n",
       "</div>"
      ]
     },
     "metadata": {},
     "execution_count": 11
    }
   ],
   "metadata": {
    "colab": {},
    "colab_type": "code",
    "id": "50flE40lLPmz",
    "outputId": "b6c7e38e-25c1-4a48-be1f-70fdf31aba13"
   }
  },
  {
   "cell_type": "code",
   "execution_count": 12,
   "source": [
    "final=final[final.HelpfulnessNumerator<=final.HelpfulnessDenominator]"
   ],
   "outputs": [],
   "metadata": {
    "colab": {},
    "colab_type": "code",
    "id": "0YTPJMLTLPm7"
   }
  },
  {
   "cell_type": "code",
   "execution_count": 13,
   "source": [
    "#Before starting the next phase of preprocessing lets see the number of entries left\r\n",
    "print(final.shape)\r\n",
    "\r\n",
    "#How many positive and negative reviews are present in our dataset?\r\n",
    "final['Score'].value_counts()"
   ],
   "outputs": [
    {
     "output_type": "stream",
     "name": "stdout",
     "text": [
      "(9564, 10)\n"
     ]
    },
    {
     "output_type": "execute_result",
     "data": {
      "text/plain": [
       "1    7976\n",
       "0    1588\n",
       "Name: Score, dtype: int64"
      ]
     },
     "metadata": {},
     "execution_count": 13
    }
   ],
   "metadata": {
    "colab": {},
    "colab_type": "code",
    "id": "LVJ_l-x2LPnC",
    "outputId": "d4a19c7a-16fe-4b5b-c3d1-aa1ef0f948a0"
   }
  },
  {
   "cell_type": "markdown",
   "source": [
    "#  [3] Preprocessing"
   ],
   "metadata": {
    "colab_type": "text",
    "id": "GrTYWzYrLPnH"
   }
  },
  {
   "cell_type": "markdown",
   "source": [
    "## [3.1].  Preprocessing Review Text\n",
    "\n",
    "Now that we have finished deduplication our data requires some preprocessing before we go on further with analysis and making the prediction model.\n",
    "\n",
    "Hence in the Preprocessing phase we do the following in the order below:-\n",
    "\n",
    "1. Begin by removing the html tags\n",
    "2. Remove any punctuations or limited set of special characters like , or . or # etc.\n",
    "3. Check if the word is made up of english letters and is not alpha-numeric\n",
    "4. Check to see if the length of the word is greater than 2 (as it was researched that there is no adjective in 2-letters)\n",
    "5. Convert the word to lowercase\n",
    "6. Remove Stopwords\n",
    "7. Finally Snowball Stemming the word (it was obsereved to be better than Porter Stemming)<br>\n",
    "\n",
    "After which we collect the words used to describe positive and negative reviews"
   ],
   "metadata": {
    "colab_type": "text",
    "id": "zbvLitZeLPnI"
   }
  },
  {
   "cell_type": "code",
   "execution_count": 14,
   "source": [
    "# printing some random reviews\r\n",
    "sent_0 = final['Text'].values[0]\r\n",
    "print(sent_0)\r\n",
    "print(\"=\"*50)\r\n",
    "\r\n",
    "sent_1000 = final['Text'].values[1000]\r\n",
    "print(sent_1000)\r\n",
    "print(\"=\"*50)\r\n",
    "\r\n",
    "sent_1500 = final['Text'].values[1500]\r\n",
    "print(sent_1500)\r\n",
    "print(\"=\"*50)\r\n",
    "\r\n",
    "sent_4900 = final['Text'].values[4900]\r\n",
    "print(sent_4900)\r\n",
    "print(\"=\"*50)"
   ],
   "outputs": [
    {
     "output_type": "stream",
     "name": "stdout",
     "text": [
      "We have used the Victor fly bait for 3 seasons.  Can't beat it.  Great product!\n",
      "==================================================\n",
      "15 month old loves to eat them on the go! They seem great for a healthy, quick, and easy snack!\n",
      "==================================================\n",
      "These chips are truly amazing. They have it all. They're light, crisp, great tasting, nice texture, AND they're all natural... AND low in fat and sodium! Need I say more? I recently bought a bag of them at a regular grocery store, and couldn't belive my taste buds. That's why I excited why I saw them here on Amazon, and decided to buy a case!\n",
      "==================================================\n",
      "These tablets definitely made things sweeter -- like lemons, limes, and grapefruit.  But it wasn't to the point of sheer amazement.  They also had an interesting effect on cheeses and vinegar, but still did virtually nothing for beer and wine. The tablets are a bit pricey but they do work.  If you've got extra money, sure, give them a try, but if you're looking for some amazing way to get your kids to eat broccoli or something along those lines then this is not the answer. Fun experiment, but not life-changing. :)\n",
      "==================================================\n"
     ]
    }
   ],
   "metadata": {
    "colab": {},
    "colab_type": "code",
    "id": "yYDc0ZXALPnK",
    "outputId": "5403fab9-796a-493d-f9d3-2a410d004f64"
   }
  },
  {
   "cell_type": "code",
   "execution_count": 15,
   "source": [
    "# remove urls from text python: https://stackoverflow.com/a/40823105/4084039\r\n",
    "sent_0 = re.sub(r\"http\\S+\", \"\", sent_0)\r\n",
    "sent_1000 = re.sub(r\"http\\S+\", \"\", sent_1000)\r\n",
    "sent_150 = re.sub(r\"http\\S+\", \"\", sent_1500)\r\n",
    "sent_4900 = re.sub(r\"http\\S+\", \"\", sent_4900)\r\n",
    "\r\n",
    "print(sent_0)"
   ],
   "outputs": [
    {
     "output_type": "stream",
     "name": "stdout",
     "text": [
      "We have used the Victor fly bait for 3 seasons.  Can't beat it.  Great product!\n"
     ]
    }
   ],
   "metadata": {
    "colab": {},
    "colab_type": "code",
    "id": "AxYh-wPiLPnS",
    "outputId": "31bddcb2-6c52-4b16-f9fb-c03d5b3bb7c8"
   }
  },
  {
   "cell_type": "code",
   "execution_count": 16,
   "source": [
    "# https://stackoverflow.com/questions/16206380/python-beautifulsoup-how-to-remove-all-tags-from-an-element\r\n",
    "from bs4 import BeautifulSoup\r\n",
    "\r\n",
    "soup = BeautifulSoup(sent_0, 'lxml')\r\n",
    "text = soup.get_text()\r\n",
    "print(text)\r\n",
    "print(\"=\"*50)\r\n",
    "\r\n",
    "soup = BeautifulSoup(sent_1000, 'lxml')\r\n",
    "text = soup.get_text()\r\n",
    "print(text)\r\n",
    "print(\"=\"*50)\r\n",
    "\r\n",
    "soup = BeautifulSoup(sent_1500, 'lxml')\r\n",
    "text = soup.get_text()\r\n",
    "print(text)\r\n",
    "print(\"=\"*50)\r\n",
    "\r\n",
    "soup = BeautifulSoup(sent_4900, 'lxml')\r\n",
    "text = soup.get_text()\r\n",
    "print(text)"
   ],
   "outputs": [
    {
     "output_type": "stream",
     "name": "stdout",
     "text": [
      "We have used the Victor fly bait for 3 seasons.  Can't beat it.  Great product!\n",
      "==================================================\n",
      "15 month old loves to eat them on the go! They seem great for a healthy, quick, and easy snack!\n",
      "==================================================\n",
      "These chips are truly amazing. They have it all. They're light, crisp, great tasting, nice texture, AND they're all natural... AND low in fat and sodium! Need I say more? I recently bought a bag of them at a regular grocery store, and couldn't belive my taste buds. That's why I excited why I saw them here on Amazon, and decided to buy a case!\n",
      "==================================================\n",
      "These tablets definitely made things sweeter -- like lemons, limes, and grapefruit.  But it wasn't to the point of sheer amazement.  They also had an interesting effect on cheeses and vinegar, but still did virtually nothing for beer and wine. The tablets are a bit pricey but they do work.  If you've got extra money, sure, give them a try, but if you're looking for some amazing way to get your kids to eat broccoli or something along those lines then this is not the answer. Fun experiment, but not life-changing. :)\n"
     ]
    }
   ],
   "metadata": {
    "colab": {},
    "colab_type": "code",
    "id": "JMSSWjZqLPne",
    "outputId": "eb1bae4e-6f37-45ee-84a3-ef3bebf4e30a"
   }
  },
  {
   "cell_type": "code",
   "execution_count": 17,
   "source": [
    "# https://stackoverflow.com/a/47091490/4084039\r\n",
    "import re\r\n",
    "\r\n",
    "def decontracted(phrase):\r\n",
    "    # specific\r\n",
    "    phrase = re.sub(r\"won't\", \"will not\", phrase)\r\n",
    "    phrase = re.sub(r\"can\\'t\", \"can not\", phrase)\r\n",
    "\r\n",
    "    # general\r\n",
    "    phrase = re.sub(r\"n\\'t\", \" not\", phrase)\r\n",
    "    phrase = re.sub(r\"\\'re\", \" are\", phrase)\r\n",
    "    phrase = re.sub(r\"\\'s\", \" is\", phrase)\r\n",
    "    phrase = re.sub(r\"\\'d\", \" would\", phrase)\r\n",
    "    phrase = re.sub(r\"\\'ll\", \" will\", phrase)\r\n",
    "    phrase = re.sub(r\"\\'t\", \" not\", phrase)\r\n",
    "    phrase = re.sub(r\"\\'ve\", \" have\", phrase)\r\n",
    "    phrase = re.sub(r\"\\'m\", \" am\", phrase)\r\n",
    "    return phrase"
   ],
   "outputs": [],
   "metadata": {
    "colab": {},
    "colab_type": "code",
    "id": "BEtpMkhULPnt"
   }
  },
  {
   "cell_type": "code",
   "execution_count": 18,
   "source": [
    "sent_1500 = decontracted(sent_1500)\r\n",
    "print(sent_1500)\r\n",
    "print(\"=\"*50)"
   ],
   "outputs": [
    {
     "output_type": "stream",
     "name": "stdout",
     "text": [
      "These chips are truly amazing. They have it all. They are light, crisp, great tasting, nice texture, AND they are all natural... AND low in fat and sodium! Need I say more? I recently bought a bag of them at a regular grocery store, and could not belive my taste buds. That is why I excited why I saw them here on Amazon, and decided to buy a case!\n",
      "==================================================\n"
     ]
    }
   ],
   "metadata": {
    "colab": {},
    "colab_type": "code",
    "id": "GavAnzNjLPnx",
    "outputId": "517fca9a-b1b6-4c6c-ab33-4c5ac4a5bd62"
   }
  },
  {
   "cell_type": "code",
   "execution_count": 19,
   "source": [
    "#remove words with numbers python: https://stackoverflow.com/a/18082370/4084039\r\n",
    "sent_0 = re.sub(\"\\S*\\d\\S*\", \"\", sent_0).strip()\r\n",
    "print(sent_0)"
   ],
   "outputs": [
    {
     "output_type": "stream",
     "name": "stdout",
     "text": [
      "We have used the Victor fly bait for  seasons.  Can't beat it.  Great product!\n"
     ]
    }
   ],
   "metadata": {
    "colab": {},
    "colab_type": "code",
    "id": "Kl8nOoL-LPn3",
    "outputId": "16742d57-2529-4fc0-9d28-e9332dbbca97"
   }
  },
  {
   "cell_type": "code",
   "execution_count": 20,
   "source": [
    "#remove spacial character: https://stackoverflow.com/a/5843547/4084039\r\n",
    "sent_1500 = re.sub('[^A-Za-z0-9]+', ' ', sent_1500)\r\n",
    "print(sent_1500)"
   ],
   "outputs": [
    {
     "output_type": "stream",
     "name": "stdout",
     "text": [
      "These chips are truly amazing They have it all They are light crisp great tasting nice texture AND they are all natural AND low in fat and sodium Need I say more I recently bought a bag of them at a regular grocery store and could not belive my taste buds That is why I excited why I saw them here on Amazon and decided to buy a case \n"
     ]
    }
   ],
   "metadata": {
    "colab": {},
    "colab_type": "code",
    "id": "EGB6X2uxLPn7",
    "outputId": "dbd754e5-eb73-4b3a-f3c3-7b1b40952851"
   }
  },
  {
   "cell_type": "code",
   "execution_count": 21,
   "source": [
    "# https://gist.github.com/sebleier/554280\r\n",
    "# we are removing the words from the stop words list: 'no', 'nor', 'not'\r\n",
    "# <br /><br /> ==> after the above steps, we are getting \"br br\"\r\n",
    "# we are including them into stop words list\r\n",
    "# instead of <br /> if we have <br/> these tags would have revmoved in the 1st step\r\n",
    "\r\n",
    "stopwords= set(['br', 'the', 'i', 'me', 'my', 'myself', 'we', 'our', 'ours', 'ourselves', 'you', \"you're\", \"you've\",\\\r\n",
    "            \"you'll\", \"you'd\", 'your', 'yours', 'yourself', 'yourselves', 'he', 'him', 'his', 'himself', \\\r\n",
    "            'she', \"she's\", 'her', 'hers', 'herself', 'it', \"it's\", 'its', 'itself', 'they', 'them', 'their',\\\r\n",
    "            'theirs', 'themselves', 'what', 'which', 'who', 'whom', 'this', 'that', \"that'll\", 'these', 'those', \\\r\n",
    "            'am', 'is', 'are', 'was', 'were', 'be', 'been', 'being', 'have', 'has', 'had', 'having', 'do', 'does', \\\r\n",
    "            'did', 'doing', 'a', 'an', 'the', 'and', 'but', 'if', 'or', 'because', 'as', 'until', 'while', 'of', \\\r\n",
    "            'at', 'by', 'for', 'with', 'about', 'against', 'between', 'into', 'through', 'during', 'before', 'after',\\\r\n",
    "            'above', 'below', 'to', 'from', 'up', 'down', 'in', 'out', 'on', 'off', 'over', 'under', 'again', 'further',\\\r\n",
    "            'then', 'once', 'here', 'there', 'when', 'where', 'why', 'how', 'all', 'any', 'both', 'each', 'few', 'more',\\\r\n",
    "            'most', 'other', 'some', 'such', 'only', 'own', 'same', 'so', 'than', 'too', 'very', \\\r\n",
    "            's', 't', 'can', 'will', 'just', 'don', \"don't\", 'should', \"should've\", 'now', 'd', 'll', 'm', 'o', 're', \\\r\n",
    "            've', 'y', 'ain', 'aren', \"aren't\", 'couldn', \"couldn't\", 'didn', \"didn't\", 'doesn', \"doesn't\", 'hadn',\\\r\n",
    "            \"hadn't\", 'hasn', \"hasn't\", 'haven', \"haven't\", 'isn', \"isn't\", 'ma', 'mightn', \"mightn't\", 'mustn',\\\r\n",
    "            \"mustn't\", 'needn', \"needn't\", 'shan', \"shan't\", 'shouldn', \"shouldn't\", 'wasn', \"wasn't\", 'weren', \"weren't\", \\\r\n",
    "            'won', \"won't\", 'wouldn', \"wouldn't\"])"
   ],
   "outputs": [],
   "metadata": {
    "colab": {},
    "colab_type": "code",
    "id": "CCurSJJ2LPn_"
   }
  },
  {
   "cell_type": "code",
   "execution_count": 22,
   "source": [
    "# Combining all the above stundents \r\n",
    "from tqdm import tqdm\r\n",
    "preprocessed_reviews = []\r\n",
    "# tqdm is for printing the status bar\r\n",
    "for sentance in tqdm(final['Text'].values):\r\n",
    "    sentance = re.sub(r\"http\\S+\", \"\", sentance)\r\n",
    "    sentance = BeautifulSoup(sentance, 'lxml').get_text()\r\n",
    "    sentance = decontracted(sentance)\r\n",
    "    sentance = re.sub(\"\\S*\\d\\S*\", \"\", sentance).strip()\r\n",
    "    sentance = re.sub('[^A-Za-z]+', ' ', sentance)\r\n",
    "    # https://gist.github.com/sebleier/554280\r\n",
    "    sentance = ' '.join(e.lower() for e in sentance.split() if e.lower() not in stopwords)\r\n",
    "    preprocessed_reviews.append(sentance.strip())"
   ],
   "outputs": [
    {
     "output_type": "stream",
     "name": "stderr",
     "text": [
      "100%|████████████████████████████████████████████████████████████████████████████| 9564/9564 [00:04<00:00, 1915.25it/s]\n"
     ]
    }
   ],
   "metadata": {
    "colab": {},
    "colab_type": "code",
    "id": "mFHQEvfnLPoF",
    "outputId": "5cd6bcc3-54fe-4a8e-a39d-d6dabf3f37f9"
   }
  },
  {
   "cell_type": "code",
   "execution_count": 23,
   "source": [
    "preprocessed_reviews[1500]"
   ],
   "outputs": [
    {
     "output_type": "execute_result",
     "data": {
      "text/plain": [
       "'chips truly amazing light crisp great tasting nice texture natural low fat sodium need say recently bought bag regular grocery store could not belive taste buds excited saw amazon decided buy case'"
      ]
     },
     "metadata": {},
     "execution_count": 23
    }
   ],
   "metadata": {
    "colab": {},
    "colab_type": "code",
    "id": "Tqx8QUeRLPoH",
    "outputId": "0182081c-6282-4113-b186-5b5bac596388"
   }
  },
  {
   "cell_type": "markdown",
   "source": [
    "<h2><font color='red'>[3.2] Preprocessing Review Summary</font></h2>"
   ],
   "metadata": {
    "colab_type": "text",
    "id": "9IuKp2HULPoL"
   }
  },
  {
   "cell_type": "code",
   "execution_count": 24,
   "source": [
    "## Similartly you can do preprocessing for review summary also."
   ],
   "outputs": [],
   "metadata": {
    "colab": {},
    "colab_type": "code",
    "id": "Qk7gYOmKLPoM"
   }
  },
  {
   "cell_type": "markdown",
   "source": [
    "# [4] Featurization"
   ],
   "metadata": {
    "colab_type": "text",
    "id": "B93jqKuhLPoQ"
   }
  },
  {
   "cell_type": "markdown",
   "source": [
    "## [4.1] BAG OF WORDS"
   ],
   "metadata": {
    "colab_type": "text",
    "id": "Mr4j2QhgLPoQ"
   }
  },
  {
   "cell_type": "code",
   "execution_count": 25,
   "source": [
    "#BoW\r\n",
    "count_vect = CountVectorizer() #in scikit-learn\r\n",
    "count_vect.fit(preprocessed_reviews)\r\n",
    "print(\"some feature names \", count_vect.get_feature_names()[:10])\r\n",
    "print('='*50)\r\n",
    "\r\n",
    "final_counts = count_vect.transform(preprocessed_reviews)\r\n",
    "print(\"the type of count vectorizer \",type(final_counts))\r\n",
    "print(\"the shape of out text BOW vectorizer \",final_counts.get_shape())\r\n",
    "print(\"the number of unique words \", final_counts.get_shape()[1])"
   ],
   "outputs": [
    {
     "output_type": "stream",
     "name": "stdout",
     "text": [
      "some feature names  ['aa', 'aaaa', 'aahhhs', 'ab', 'aback', 'abandon', 'abates', 'abberline', 'abbott', 'abby']\n",
      "==================================================\n",
      "the type of count vectorizer  <class 'scipy.sparse.csr.csr_matrix'>\n",
      "the shape of out text BOW vectorizer  (9564, 18244)\n",
      "the number of unique words  18244\n"
     ]
    }
   ],
   "metadata": {
    "colab": {},
    "colab_type": "code",
    "id": "dZVHt3mtLPoR",
    "outputId": "ea1629cd-7c92-400e-9acd-f7caeef0f389"
   }
  },
  {
   "cell_type": "markdown",
   "source": [
    "## [4.2] Bi-Grams and n-Grams."
   ],
   "metadata": {
    "colab_type": "text",
    "id": "tSf5kRdLLPoV"
   }
  },
  {
   "cell_type": "code",
   "execution_count": 26,
   "source": [
    "#bi-gram, tri-gram and n-gram\r\n",
    "\r\n",
    "#removing stop words like \"not\" should be avoided before building n-grams\r\n",
    "# count_vect = CountVectorizer(ngram_range=(1,2))\r\n",
    "# please do read the CountVectorizer documentation http://scikit-learn.org/stable/modules/generated/sklearn.feature_extraction.text.CountVectorizer.html\r\n",
    "\r\n",
    "# you can choose these numebrs min_df=10, max_features=5000, of your choice\r\n",
    "count_vect = CountVectorizer(ngram_range=(1,2), min_df=10, max_features=5000)\r\n",
    "final_bigram_counts = count_vect.fit_transform(preprocessed_reviews)\r\n",
    "print(\"the type of count vectorizer \",type(final_bigram_counts))\r\n",
    "print(\"the shape of out text BOW vectorizer \",final_bigram_counts.get_shape())\r\n",
    "print(\"the number of unique words including both unigrams and bigrams \", final_bigram_counts.get_shape()[1])"
   ],
   "outputs": [
    {
     "output_type": "stream",
     "name": "stdout",
     "text": [
      "the type of count vectorizer  <class 'scipy.sparse.csr.csr_matrix'>\n",
      "the shape of out text BOW vectorizer  (9564, 5000)\n",
      "the number of unique words including both unigrams and bigrams  5000\n"
     ]
    }
   ],
   "metadata": {
    "colab": {},
    "colab_type": "code",
    "id": "Yfk2d7bLLPoW",
    "outputId": "33472132-5eb3-493f-b08c-081749f99239"
   }
  },
  {
   "cell_type": "markdown",
   "source": [
    "## [4.3] TF-IDF"
   ],
   "metadata": {
    "colab_type": "text",
    "id": "-cEEpDx0LPoZ"
   }
  },
  {
   "cell_type": "code",
   "execution_count": 27,
   "source": [
    "tf_idf_vect = TfidfVectorizer(ngram_range=(1,2), min_df=10)\r\n",
    "tf_idf_vect.fit(preprocessed_reviews)\r\n",
    "print(\"some sample features(unique words in the corpus)\",tf_idf_vect.get_feature_names()[0:10])\r\n",
    "print('='*50)\r\n",
    "\r\n",
    "final_tf_idf = tf_idf_vect.transform(preprocessed_reviews)\r\n",
    "print(\"the type of count vectorizer \",type(final_tf_idf))\r\n",
    "print(\"the shape of out text TFIDF vectorizer \",final_tf_idf.get_shape())\r\n",
    "print(\"the number of unique words including both unigrams and bigrams \", final_tf_idf.get_shape()[1])"
   ],
   "outputs": [
    {
     "output_type": "stream",
     "name": "stdout",
     "text": [
      "some sample features(unique words in the corpus) ['ability', 'able', 'able buy', 'able eat', 'able find', 'able get', 'able order', 'able use', 'absolute', 'absolute best']\n",
      "==================================================\n",
      "the type of count vectorizer  <class 'scipy.sparse.csr.csr_matrix'>\n",
      "the shape of out text TFIDF vectorizer  (9564, 5765)\n",
      "the number of unique words including both unigrams and bigrams  5765\n"
     ]
    }
   ],
   "metadata": {
    "colab": {},
    "colab_type": "code",
    "id": "TgP61HqBLPoa",
    "outputId": "15f1c123-d93b-414d-914b-d4e3f32a6ac1"
   }
  },
  {
   "cell_type": "markdown",
   "source": [
    "## [4.4] Word2Vec"
   ],
   "metadata": {
    "colab_type": "text",
    "id": "m3YEHTLPLPod"
   }
  },
  {
   "cell_type": "code",
   "execution_count": 28,
   "source": [
    "# Train your own Word2Vec model using your own text corpus\r\n",
    "i=0\r\n",
    "list_of_sentance=[]\r\n",
    "for sentance in preprocessed_reviews:\r\n",
    "    list_of_sentance.append(sentance.split())"
   ],
   "outputs": [],
   "metadata": {
    "colab": {},
    "colab_type": "code",
    "id": "zwPZCf8cLPoe"
   }
  },
  {
   "cell_type": "code",
   "execution_count": 29,
   "source": [
    "# Using Google News Word2Vectors\r\n",
    "\r\n",
    "# in this project we are using a pretrained model by google\r\n",
    "# its 3.3G file, once you load this into your memory \r\n",
    "# it occupies ~9Gb, so please do this step only if you have >12G of ram\r\n",
    "# we will provide a pickle file wich contains a dict , \r\n",
    "# and it contains all our courpus words as keys and  model[word] as values\r\n",
    "# To use this code-snippet, download \"GoogleNews-vectors-negative300.bin\" \r\n",
    "# from https://drive.google.com/file/d/0B7XkCwpI5KDYNlNUTTlSS21pQmM/edit\r\n",
    "# it's 1.9GB in size.\r\n",
    "\r\n",
    "\r\n",
    "# http://kavita-ganesan.com/gensim-word2vec-tutorial-starter-code/#.W17SRFAzZPY\r\n",
    "# you can comment this whole cell\r\n",
    "# or change these varible according to your need\r\n",
    "\r\n",
    "is_your_ram_gt_16g=False\r\n",
    "want_to_use_google_w2v = False\r\n",
    "want_to_train_w2v = True\r\n",
    "\r\n",
    "if want_to_train_w2v:\r\n",
    "    # min_count = 5 considers only words that occured atleast 5 times\r\n",
    "    w2v_model=Word2Vec(list_of_sentance,min_count=5,vector_size=50, workers=4)\r\n",
    "    print(w2v_model.wv.most_similar('great'))\r\n",
    "    print('='*50)\r\n",
    "    print(w2v_model.wv.most_similar('worst'))\r\n",
    "    \r\n",
    "elif want_to_use_google_w2v and is_your_ram_gt_16g:\r\n",
    "    if os.path.isfile('GoogleNews-vectors-negative300.bin'):\r\n",
    "        w2v_model=KeyedVectors.load_word2vec_format('GoogleNews-vectors-negative300.bin', binary=True)\r\n",
    "        print(w2v_model.wv.most_similar('great'))\r\n",
    "        print(w2v_model.wv.most_similar('worst'))\r\n",
    "    else:\r\n",
    "        print(\"you don't have gogole's word2vec file, keep want_to_train_w2v = True, to train your own w2v \")"
   ],
   "outputs": [
    {
     "output_type": "stream",
     "name": "stdout",
     "text": [
      "[('excellent', 0.8877537846565247), ('good', 0.805847704410553), ('overall', 0.7688449621200562), ('looking', 0.7527762055397034), ('well', 0.7499767541885376), ('wonderful', 0.7344440221786499), ('decent', 0.711161732673645), ('super', 0.710578441619873), ('fresh', 0.7090269327163696), ('quick', 0.7088907957077026)]\n",
      "==================================================\n",
      "[('hands', 0.975385308265686), ('salsas', 0.9743685722351074), ('greatest', 0.970375120639801), ('awful', 0.965551495552063), ('disappointing', 0.9655445218086243), ('addicted', 0.9652997255325317), ('hooked', 0.9651741981506348), ('sweetest', 0.964006245136261), ('eaten', 0.9637812376022339), ('gevalia', 0.962725818157196)]\n"
     ]
    }
   ],
   "metadata": {
    "colab": {},
    "colab_type": "code",
    "id": "8ddGZNUfLPog",
    "outputId": "390d4ccb-cda2-4391-83e9-0e502b578171",
    "scrolled": true
   }
  },
  {
   "cell_type": "code",
   "execution_count": 30,
   "source": [
    "w2v_words = list(w2v_model.wv.index_to_key)\r\n",
    "print(\"number of words that occured minimum 5 times \",len(w2v_words))\r\n",
    "print(\"sample words \", w2v_words[0:50])"
   ],
   "outputs": [
    {
     "output_type": "stream",
     "name": "stdout",
     "text": [
      "number of words that occured minimum 5 times  5652\n",
      "sample words  ['not', 'like', 'good', 'great', 'taste', 'coffee', 'one', 'would', 'product', 'flavor', 'love', 'no', 'tea', 'food', 'really', 'get', 'much', 'use', 'best', 'time', 'amazon', 'also', 'tried', 'little', 'make', 'buy', 'price', 'find', 'well', 'better', 'try', 'even', 'cup', 'chips', 'bag', 'chocolate', 'sugar', 'water', 'eat', 'first', 'hot', 'could', 'drink', 'made', 'found', 'mix', 'used', 'bought', 'free', 'sweet']\n"
     ]
    }
   ],
   "metadata": {
    "colab": {},
    "colab_type": "code",
    "id": "bRWXmmnWLPoo",
    "outputId": "1cc345e7-d991-49b8-f1b7-a0d81f0b97e6"
   }
  },
  {
   "cell_type": "markdown",
   "source": [
    "## [4.4.1] Converting text into vectors using Avg W2V, TFIDF-W2V"
   ],
   "metadata": {
    "colab_type": "text",
    "id": "TtWqibqfLPos"
   }
  },
  {
   "cell_type": "markdown",
   "source": [
    "#### [4.4.1.1] Avg W2v"
   ],
   "metadata": {
    "colab_type": "text",
    "id": "JriP5nZCLPot"
   }
  },
  {
   "cell_type": "code",
   "execution_count": 31,
   "source": [
    "# average Word2Vec\r\n",
    "# compute average word2vec for each review.\r\n",
    "sent_vectors = []; # the avg-w2v for each sentence/review is stored in this list\r\n",
    "for sent in tqdm(list_of_sentance): # for each review/sentence\r\n",
    "    sent_vec = np.zeros(50) # as word vectors are of zero length 50, you might need to change this to 300 if you use google's w2v\r\n",
    "    cnt_words =0; # num of words with a valid vector in the sentence/review\r\n",
    "    for word in sent: # for each word in a review/sentence\r\n",
    "        if word in w2v_words:\r\n",
    "            vec = w2v_model.wv[word]\r\n",
    "            sent_vec += vec\r\n",
    "            cnt_words += 1\r\n",
    "    if cnt_words != 0:\r\n",
    "        sent_vec /= cnt_words\r\n",
    "    sent_vectors.append(sent_vec)\r\n",
    "print(len(sent_vectors))\r\n",
    "print(len(sent_vectors[0]))"
   ],
   "outputs": [
    {
     "output_type": "stream",
     "name": "stderr",
     "text": [
      "100%|█████████████████████████████████████████████████████████████████████████████| 9564/9564 [00:11<00:00, 826.86it/s]"
     ]
    },
    {
     "output_type": "stream",
     "name": "stdout",
     "text": [
      "9564\n",
      "50\n"
     ]
    },
    {
     "output_type": "stream",
     "name": "stderr",
     "text": [
      "\n"
     ]
    }
   ],
   "metadata": {
    "colab": {},
    "colab_type": "code",
    "id": "UnXI9NHTLPot",
    "outputId": "ecbe8256-9718-4bad-de33-e5ce1ee69038"
   }
  },
  {
   "cell_type": "markdown",
   "source": [
    "#### [4.4.1.2] TFIDF weighted W2v"
   ],
   "metadata": {
    "colab_type": "text",
    "id": "2sHfb529LPow"
   }
  },
  {
   "cell_type": "code",
   "execution_count": 32,
   "source": [
    "# S = [\"abc def pqr\", \"def def def abc\", \"pqr pqr def\"]\r\n",
    "model = TfidfVectorizer()\r\n",
    "tf_idf_matrix = model.fit_transform(preprocessed_reviews)\r\n",
    "# we are converting a dictionary with word as a key, and the idf as a value\r\n",
    "dictionary = dict(zip(model.get_feature_names(), list(model.idf_)))"
   ],
   "outputs": [],
   "metadata": {
    "colab": {},
    "colab_type": "code",
    "id": "sb_wDjAqLPow"
   }
  },
  {
   "cell_type": "code",
   "execution_count": 33,
   "source": [
    "# TF-IDF weighted Word2Vec\r\n",
    "tfidf_feat = model.get_feature_names() # tfidf words/col-names\r\n",
    "# final_tf_idf is the sparse matrix with row= sentence, col=word and cell_val = tfidf\r\n",
    "\r\n",
    "tfidf_sent_vectors = []; # the tfidf-w2v for each sentence/review is stored in this list\r\n",
    "row=0;\r\n",
    "for sent in tqdm(list_of_sentance): # for each review/sentence \r\n",
    "    sent_vec = np.zeros(50) # as word vectors are of zero length\r\n",
    "    weight_sum =0; # num of words with a valid vector in the sentence/review\r\n",
    "    for word in sent: # for each word in a review/sentence\r\n",
    "        if word in w2v_words and word in tfidf_feat:\r\n",
    "            vec = w2v_model.wv[word]\r\n",
    "#             tf_idf = tf_idf_matrix[row, tfidf_feat.index(word)]\r\n",
    "            # to reduce the computation we are \r\n",
    "            # dictionary[word] = idf value of word in whole courpus\r\n",
    "            # sent.count(word) = tf valeus of word in this review\r\n",
    "            tf_idf = dictionary[word]*(sent.count(word)/len(sent))\r\n",
    "            sent_vec += (vec * tf_idf)\r\n",
    "            weight_sum += tf_idf\r\n",
    "    if weight_sum != 0:\r\n",
    "        sent_vec /= weight_sum\r\n",
    "    tfidf_sent_vectors.append(sent_vec)\r\n",
    "    row += 1"
   ],
   "outputs": [
    {
     "output_type": "stream",
     "name": "stderr",
     "text": [
      "100%|█████████████████████████████████████████████████████████████████████████████| 9564/9564 [01:31<00:00, 104.75it/s]\n"
     ]
    }
   ],
   "metadata": {
    "colab": {},
    "colab_type": "code",
    "id": "3VrUzqx7LPoy",
    "outputId": "8480d5da-7b1d-4bbe-a4c9-fe0a5800b5d0",
    "scrolled": true
   }
  },
  {
   "cell_type": "markdown",
   "source": [
    "# [5] Assignment 5: Apply Logistic Regression"
   ],
   "metadata": {
    "colab_type": "text",
    "id": "Kxx72u1hLPo1"
   }
  },
  {
   "cell_type": "markdown",
   "source": [
    "<ol>\n",
    "    <li><strong>Apply Logistic Regression on these feature sets</strong>\n",
    "        <ul>\n",
    "            <li><font color='red'>SET 1:</font>Review text, preprocessed one converted into vectors using (BOW)</li>\n",
    "            <li><font color='red'>SET 2:</font>Review text, preprocessed one converted into vectors using (TFIDF)</li>\n",
    "            <li><font color='red'>SET 3:</font>Review text, preprocessed one converted into vectors using (AVG W2v)</li>\n",
    "            <li><font color='red'>SET 4:</font>Review text, preprocessed one converted into vectors using (TFIDF W2v)</li>\n",
    "        </ul>\n",
    "    </li>\n",
    "    <br>\n",
    "    <li><strong>Hyper paramter tuning (find best hyper parameters corresponding the algorithm that you choose)</strong>\n",
    "        <ul>\n",
    "    <li>Find the best hyper parameter which will give the maximum <a href='https://www.appliedaicourse.com/course/applied-ai-course-online/lessons/receiver-operating-characteristic-curve-roc-curve-and-auc-1/'>AUC</a> value</li>\n",
    "    <li>Find the best hyper paramter using k-fold cross validation or simple cross validation data</li>\n",
    "    <li>Use gridsearch cv or randomsearch cv or you can also write your own for loops to do this task of hyperparameter tuning</li>          \n",
    "        </ul>\n",
    "    </li>\n",
    "    <br>\n",
    "    <li><strong>Pertubation Test</strong>\n",
    "        <ul>\n",
    "    <li>Get the weights W after fit your model with the data X i.e Train data.</li>\n",
    "    <li>Add a noise to the X (X' = X + e) and get the new data set X' (if X is a sparse\n",
    "matrix, X.data+=e)</li>\n",
    "    <li>Fit the model again on data X' and get the weights W'</li>\n",
    "    <li>Add a small eps value(to eliminate the divisible by zero error) to W and W’ i.e\n",
    "W=W+10^-6 and W’ = W’+10^-6</li>\n",
    "    <li>Now find the % change between W and W' (| (W-W') / (W) |)*100)</li>\n",
    "    <li>Calculate the 0th, 10th, 20th, 30th, ...100th percentiles, and observe any sudden rise in the values of percentage_change_vector</li>\n",
    "    <li> Ex: consider your 99th percentile is 1.3 and your 100th percentiles are 34.6, there is sudden rise from 1.3 to 34.6, now calculate the 99.1, 99.2, 99.3,..., 100th percentile values and get the proper value after which there is sudden rise the values, assume it is 2.5</li>\n",
    "            <li> Print the feature names whose % change is more than a threshold x(in our example it's 2.5)</li>\n",
    "        </ul>\n",
    "    </li>\n",
    "    <br>\n",
    "    <li><strong>Sparsity</strong>\n",
    "        <ul>\n",
    "    <li>Calculate sparsity on weight vector obtained after using L1 regularization</li>\n",
    "        </ul>\n",
    "    </li>\n",
    "    <br><font color='red'>NOTE: Do sparsity and multicollinearity for any one of the vectorizers. Bow or tf-idf is recommended.</font>\n",
    "    <br>\n",
    "    <br>\n",
    "    <li><strong>Feature importance</strong>\n",
    "        <ul>\n",
    "    <li>Get top 10 important features for both positive and negative classes separately.</li>\n",
    "        </ul>\n",
    "    </li>\n",
    "    <br>\n",
    "    <li><strong>Feature engineering</strong>\n",
    "        <ul>\n",
    "    <li>To increase the performance of your model, you can also experiment with with feature engineering like :</li>\n",
    "            <ul>\n",
    "            <li>Taking length of reviews as another feature.</li>\n",
    "            <li>Considering some features from review summary as well.</li>\n",
    "        </ul>\n",
    "        </ul>\n",
    "    </li>\n",
    "    <br>\n",
    "    <li><strong>Representation of results</strong>\n",
    "        <ul>\n",
    "    <li>You need to plot the performance of model both on train data and cross validation data for each hyper parameter, like shown in the figure.\n",
    "    <img src='train_cv_auc.JPG' width=300px></li>\n",
    "    <li>Once after you found the best hyper parameter, you need to train your model with it, and find the AUC on test data and plot the ROC curve on both train and test.\n",
    "    <img src='train_test_auc.JPG' width=300px></li>\n",
    "    <li>Along with plotting ROC curve, you need to print the <a href='https://www.appliedaicourse.com/course/applied-ai-course-online/lessons/confusion-matrix-tpr-fpr-fnr-tnr-1/'>confusion matrix</a> with predicted and original labels of test data points. Please visualize your confusion matrices using <a href='https://seaborn.pydata.org/generated/seaborn.heatmap.html'>seaborn heatmaps.\n",
    "    <img src='confusion_matrix.png' width=300px></li>\n",
    "        </ul>\n",
    "    </li>\n",
    "    <br>\n",
    "    <li><strong>Conclusion</strong>\n",
    "        <ul>\n",
    "    <li>You need to summarize the results at the end of the notebook, summarize it in the table format. To print out a table please refer to this prettytable library<a href='http://zetcode.com/python/prettytable/'>  link</a> \n",
    "        <img src='summary.JPG' width=400px>\n",
    "    </li>\n",
    "        </ul>\n",
    "</ol>"
   ],
   "metadata": {
    "colab_type": "text",
    "id": "KDR9We0oLPo2"
   }
  },
  {
   "cell_type": "markdown",
   "source": [
    "<h4><font color='red'>Note: Data Leakage</font></h4>\n",
    "\n",
    "1. There will be an issue of data-leakage if you vectorize the entire data and then split it into train/cv/test.\n",
    "2. To avoid the issue of data-leakag, make sure to split your data first and then vectorize it. \n",
    "3. While vectorizing your data, apply the method fit_transform() on you train data, and apply the method transform() on cv/test data.\n",
    "4. For more details please go through this <a href='https://soundcloud.com/applied-ai-course/leakage-bow-and-tfidf'>link.</a>"
   ],
   "metadata": {
    "colab_type": "text",
    "id": "gilb-DOVLPo2"
   }
  },
  {
   "cell_type": "markdown",
   "source": [
    "# Applying Logistic Regression"
   ],
   "metadata": {
    "colab_type": "text",
    "id": "jiYocvSHLPo4"
   }
  },
  {
   "cell_type": "markdown",
   "source": [
    "## [5.1] Logistic Regression on BOW,<font color='red'> SET 1</font>"
   ],
   "metadata": {
    "colab_type": "text",
    "id": "LE_XPVZJLPo4"
   }
  },
  {
   "cell_type": "markdown",
   "source": [
    "### [5.1.1] Applying Logistic Regression with L1 regularization on BOW,<font color='red'> SET 1</font>"
   ],
   "metadata": {
    "colab_type": "text",
    "id": "_iciJvj2LPo4"
   }
  },
  {
   "cell_type": "code",
   "execution_count": 34,
   "source": [
    "# Importing Library\r\n",
    "import numpy as np\r\n",
    "import pandas as pd\r\n",
    "import sklearn\r\n",
    "import matplotlib.pyplot as plt\r\n",
    "from sklearn.model_selection import train_test_split\r\n",
    "from sklearn.neighbors import KNeighborsClassifier\r\n",
    "from sklearn.metrics import accuracy_score\r\n",
    "from sklearn.model_selection import cross_val_score\r\n",
    "from collections import Counter\r\n",
    "from sklearn.metrics import roc_auc_score\r\n",
    "from sklearn.metrics import confusion_matrix\r\n",
    "import seaborn as sns\r\n",
    "from sklearn.model_selection import GridSearchCV\r\n",
    "from sklearn.datasets import *\r\n",
    "from sklearn.linear_model import LogisticRegression"
   ],
   "outputs": [],
   "metadata": {
    "colab": {},
    "colab_type": "code",
    "id": "MyOVi-xYLPo5"
   }
  },
  {
   "cell_type": "code",
   "execution_count": 35,
   "source": [
    "# Spliting our data into train test and cross validation sets\r\n",
    "X= preprocessed_reviews\r\n",
    "X= np.array(X)\r\n",
    "y= np.array(final['Score'])\r\n",
    "X_1, X_test, y_1, y_test= train_test_split(X, y, test_size=0.3, random_state=30)\r\n",
    "X_tr, X_cv, y_tr, y_cv= train_test_split(X_1, y_1, test_size=0.3, random_state=30)\r\n",
    "\r\n",
    "#converting reviews to BoW\r\n",
    "count_vect = CountVectorizer()\r\n",
    "final_X_tr=count_vect.fit_transform(X_tr)\r\n",
    "final_X_test=count_vect.transform(X_test)\r\n",
    "final_X_cv=count_vect.transform(X_cv) \r\n"
   ],
   "outputs": [],
   "metadata": {}
  },
  {
   "cell_type": "code",
   "execution_count": 36,
   "source": [
    "#Calculating for finding best C\r\n",
    "\r\n",
    "roc_tr=[]\r\n",
    "roc_cv=[]\r\n",
    "max_auc_score=0\r\n",
    "C_best=0\r\n",
    "tuned_parameters= [10**-4, 10**-2, 10**2, 10**4]\r\n",
    "for i in tuned_parameters:\r\n",
    "    lr= LogisticRegression(C=i, penalty='l1', solver='liblinear', class_weight={0:1, 1:5})\r\n",
    "    lr.fit(final_X_tr, y_tr) #fitting are model on Train data\r\n",
    "    #Predict the response on the crossvalidation\r\n",
    "    pred_cv= lr.predict_proba(final_X_cv)\r\n",
    "    pred_cv=(pred_cv)[:,1]\r\n",
    "    roc_cv.append(roc_auc_score(y_cv,pred_cv))\r\n",
    "    #Predict the response on the training \r\n",
    "    pred_tr= lr.predict_proba(final_X_tr)\r\n",
    "    pred_tr= (pred_tr)[:,1]\r\n",
    "    roc_tr.append(roc_auc_score(y_tr,pred_tr))\r\n",
    "    #Finding the Best c value or max value of auc score\r\n",
    "    if roc_auc_score(y_cv,pred_cv) > max_auc_score:\r\n",
    "        C_best= i\r\n",
    "        max_auc_score= roc_auc_score(y_cv, pred_cv)\r\n",
    "        \r\n",
    "print(\"C best value is : \",C_best/100)\r\n",
    "print(\"Max auc score is :\", max_auc_score*100)\r\n",
    "C_best= C_best/100\r\n",
    "C1= C_best\r\n",
    "auc1= max_auc_score"
   ],
   "outputs": [
    {
     "output_type": "stream",
     "name": "stdout",
     "text": [
      "C best value is :  1.0\n",
      "Max auc score is : 89.1184879014897\n"
     ]
    }
   ],
   "metadata": {}
  },
  {
   "cell_type": "code",
   "execution_count": 37,
   "source": [
    "#Ploting curve between K vs Train and Cross validation\r\n",
    "plt.plot(np.log(tuned_parameters), roc_cv, label=\"AUC_CV\")\r\n",
    "plt.plot(np.log(tuned_parameters), roc_tr, label=\"AUC_Train\")\r\n",
    "plt.legend()\r\n",
    "plt.title('AUC Score vs log(hyperparameters)')\r\n",
    "plt.xlabel(\"Hyperparameter\")\r\n",
    "plt.ylabel(\"AUC\")\r\n",
    "plt.show()"
   ],
   "outputs": [
    {
     "output_type": "display_data",
     "data": {
      "text/plain": [
       "<Figure size 432x288 with 1 Axes>"
      ],
      "image/png": "[encoded data removed]"
     },
     "metadata": {
      "needs_background": "light"
     }
    }
   ],
   "metadata": {}
  },
  {
   "cell_type": "code",
   "execution_count": 38,
   "source": [
    "lr= LogisticRegression(C=1, penalty= 'l1',solver='liblinear') # trainning with best K\r\n",
    "lr.fit(final_X_tr, y_tr)\r\n",
    "#Predicting prob on the test data\r\n",
    "pred_test= lr.predict_proba(final_X_test)\r\n",
    "pred_test= (pred_test)[:,1]\r\n",
    "#Prediction prob on traning data\r\n",
    "pred_tr= lr.predict_proba(final_X_tr)\r\n",
    "pred_tr= (pred_tr)[:,1]\r\n"
   ],
   "outputs": [],
   "metadata": {}
  },
  {
   "cell_type": "code",
   "execution_count": 39,
   "source": [
    "#plotting ROC curve \r\n",
    "\r\n",
    "#finding FPR and TPR on training and test data\r\n",
    "fpr, tpr, thershold= metrics.roc_curve(y_test, pred_test)\r\n",
    "fpr1, tpr1, thershold1= metrics.roc_curve(y_tr, pred_tr)\r\n",
    "\r\n",
    "#plotting\r\n",
    "plt.plot(fpr,tpr ,label=\"characterstics on Test data\"+str(roc_auc_score(y_test,pred_test)))\r\n",
    "plt.plot(fpr1,tpr1 ,label=\"characterstics on Train data\"+str(roc_auc_score(y_tr,pred_tr)))\r\n",
    "plt.legend()\r\n",
    "plt.title('ROC on best C')\r\n",
    "plt.xlabel('FPR')\r\n",
    "plt.ylabel('TPR')\r\n",
    "plt.show()\r\n"
   ],
   "outputs": [
    {
     "output_type": "display_data",
     "data": {
      "text/plain": [
       "<Figure size 432x288 with 1 Axes>"
      ],
      "image/png": "[encoded data removed]"
     },
     "metadata": {
      "needs_background": "light"
     }
    }
   ],
   "metadata": {}
  },
  {
   "cell_type": "code",
   "execution_count": 40,
   "source": [
    "predic = lr.predict(final_X_test)\r\n",
    "conf_mat = confusion_matrix(y_test, predic)\r\n",
    "print(conf_mat)"
   ],
   "outputs": [
    {
     "output_type": "stream",
     "name": "stdout",
     "text": [
      "[[ 256  217]\n",
      " [ 102 2295]]\n"
     ]
    }
   ],
   "metadata": {}
  },
  {
   "cell_type": "code",
   "execution_count": 41,
   "source": [
    "class_label = [\"negative\", \"positive\"]\r\n",
    "df = pd.DataFrame(conf_mat, index = class_label, columns = class_label)\r\n",
    "sns.heatmap(df, annot = True,fmt=\"d\")\r\n",
    "plt.title(\"Confusion Matrix\")\r\n",
    "plt.xlabel(\"Predicted Label\")\r\n",
    "plt.ylabel(\"True Label\")\r\n",
    "plt.show()"
   ],
   "outputs": [
    {
     "output_type": "display_data",
     "data": {
      "text/plain": [
       "<Figure size 432x288 with 2 Axes>"
      ],
      "image/png": "[encoded data removed]"
     },
     "metadata": {
      "needs_background": "light"
     }
    }
   ],
   "metadata": {}
  },
  {
   "cell_type": "markdown",
   "source": [
    "#### [5.1.1.1] Calculating sparsity on weight vector obtained using L1 regularization on BOW,<font color='red'> SET 1</font>"
   ],
   "metadata": {
    "colab_type": "text",
    "id": "5h4NhywcLPo7"
   }
  },
  {
   "cell_type": "code",
   "execution_count": 42,
   "source": [
    "# Please write all the code with proper documentation\r\n",
    "lr = LogisticRegression(C=1, penalty='l1',solver='liblinear');\r\n",
    "lr.fit(final_X_tr, y_tr);\r\n",
    "w = lr.coef_\r\n",
    "print(np.count_nonzero(w))\r\n"
   ],
   "outputs": [
    {
     "output_type": "stream",
     "name": "stdout",
     "text": [
      "724\n"
     ]
    }
   ],
   "metadata": {
    "colab": {},
    "colab_type": "code",
    "id": "-mmdLzUALPo-"
   }
  },
  {
   "cell_type": "markdown",
   "source": [
    "### [5.1.2] Applying Logistic Regression with L2 regularization on BOW,<font color='red'> SET 1</font>"
   ],
   "metadata": {
    "colab_type": "text",
    "id": "aRHMa52qLPpA"
   }
  },
  {
   "cell_type": "code",
   "execution_count": 43,
   "source": [
    "# Please write all the code with proper documentation\r\n",
    "#Calculating for finding Best K\r\n",
    "roc_tr=[]\r\n",
    "roc_cv=[]\r\n",
    "max_auc_score=0\r\n",
    "C_best=0\r\n",
    "tuned_parameters =[10**-4, 10**-2, 10**0, 10**2, 10**4]\r\n",
    "for i in tuned_parameters:\r\n",
    "    # instantiate learning model (k = 100)\r\n",
    "    lr=LogisticRegression(C=i, penalty='l2')\r\n",
    "    # fitting the model on train data\r\n",
    "    lr.fit(final_X_tr,y_tr)\r\n",
    "     #predict the response on the crossvalidation \r\n",
    "    pred_cv = lr.predict_proba(final_X_cv)\r\n",
    "    pred_cv=(pred_cv)[:,1]\r\n",
    "    roc_cv.append(roc_auc_score(y_cv,pred_cv))\r\n",
    "    \r\n",
    "     # predict the response on the traininig\r\n",
    "    pred_tr = lr.predict_proba(final_X_tr)\r\n",
    "    pred_tr=(pred_tr)[:,1]\r\n",
    "    roc_tr.append(roc_auc_score(y_tr,pred_tr))\r\n",
    "    \r\n",
    "    #finding best k using max value of auc score\r\n",
    "    if roc_auc_score(y_cv,pred_cv)>max_auc_score:\r\n",
    "        C_best=i\r\n",
    "        max_auc_score=roc_auc_score(y_cv,pred_cv)        \r\n",
    "print(C_best)        \r\n",
    "print(max_auc_score)\r\n",
    "C2=C_best\r\n",
    "auc2=max_auc_score"
   ],
   "outputs": [
    {
     "output_type": "stream",
     "name": "stdout",
     "text": [
      "1\n",
      "0.9141014380435719\n"
     ]
    }
   ],
   "metadata": {
    "colab": {},
    "colab_type": "code",
    "id": "GBbb9lxlLPpB"
   }
  },
  {
   "cell_type": "code",
   "execution_count": 44,
   "source": [
    "# plotting curve between K vs Train and Cross validation Data\r\n",
    "plt.plot(np.log(tuned_parameters),roc_cv ,label=\"AUC cv\")\r\n",
    "plt.plot(np.log(tuned_parameters),roc_tr,label=\"AUC train\")\r\n",
    "plt.legend()\r\n",
    "plt.title('AUC Score vs C')\r\n",
    "plt.xlabel('C')\r\n",
    "plt.ylabel('AUC')\r\n",
    "plt.show()"
   ],
   "outputs": [
    {
     "output_type": "display_data",
     "data": {
      "text/plain": [
       "<Figure size 432x288 with 1 Axes>"
      ],
      "image/png": "[encoded data removed]"
     },
     "metadata": {
      "needs_background": "light"
     }
    }
   ],
   "metadata": {}
  },
  {
   "cell_type": "code",
   "execution_count": 45,
   "source": [
    "# Training the model using best K    \r\n",
    "lr=LogisticRegression(C=C_best, penalty='l2')\r\n",
    "lr.fit(final_X_tr, y_tr)\r\n",
    "before_pb=lr.coef_[0]\r\n",
    "#predicting probability on Test data\r\n",
    "pred_test = lr.predict_proba(final_X_test)\r\n",
    "pred_test=(pred_test)[:,1]\r\n",
    "#predicting probablity of Training data\r\n",
    "pred_tr = lr.predict_proba(final_X_tr)\r\n",
    "pred_tr=(pred_tr)[:,1]\r\n",
    "\r\n",
    "\r\n",
    "#Plotting Roc Curve\r\n",
    "#fiding fpr and tpr on Traing and Test Data\r\n",
    "fpr, tpr, threshold = metrics.roc_curve(y_test, pred_test)\r\n",
    "fpr1, tpr1, threshold1 = metrics.roc_curve(y_tr, pred_tr)\r\n",
    "\r\n",
    "#plotting\r\n",
    "plt.plot(fpr,tpr ,label=\"characterstics on Test data\"+str(roc_auc_score(y_test,pred_test)))\r\n",
    "plt.plot(fpr1,tpr1 ,label=\"characterstics on Train data\"+str(roc_auc_score(y_tr,pred_tr)))\r\n",
    "plt.legend()\r\n",
    "plt.title('ROC on best K')\r\n",
    "plt.xlabel('FPR')\r\n",
    "plt.ylabel('TPR')\r\n",
    "plt.show()\r\n"
   ],
   "outputs": [
    {
     "output_type": "display_data",
     "data": {
      "text/plain": [
       "<Figure size 432x288 with 1 Axes>"
      ],
      "image/png": "[encoded data removed]"
     },
     "metadata": {
      "needs_background": "light"
     }
    }
   ],
   "metadata": {}
  },
  {
   "cell_type": "code",
   "execution_count": 46,
   "source": [
    "#finding Confusion_matrix\r\n",
    "predic=lr.predict(final_X_test)\r\n",
    "conf_mat = confusion_matrix(y_test, predic)\r\n",
    "print(conf_mat)\r\n",
    "\r\n",
    "#plotting Confusion Matrix\r\n",
    "class_label = [\"negative\", \"positive\"]\r\n",
    "df = pd.DataFrame(conf_mat, index = class_label, columns = class_label)\r\n",
    "sns.heatmap(df, annot = True,fmt=\"d\")\r\n",
    "plt.title(\"Confusion Matrix\")\r\n",
    "plt.xlabel(\"Predicted Label\")\r\n",
    "plt.ylabel(\"True Label\")\r\n",
    "plt.show()"
   ],
   "outputs": [
    {
     "output_type": "stream",
     "name": "stdout",
     "text": [
      "[[ 255  218]\n",
      " [  76 2321]]\n"
     ]
    },
    {
     "output_type": "display_data",
     "data": {
      "text/plain": [
       "<Figure size 432x288 with 2 Axes>"
      ],
      "image/png": "[encoded data removed]"
     },
     "metadata": {
      "needs_background": "light"
     }
    }
   ],
   "metadata": {}
  },
  {
   "cell_type": "markdown",
   "source": [
    "#### [5.1.2.1] Performing pertubation test (multicollinearity check) on BOW,<font color='red'> SET 1</font>"
   ],
   "metadata": {
    "colab_type": "text",
    "id": "UaJkugTKLPpE"
   }
  },
  {
   "cell_type": "code",
   "execution_count": 47,
   "source": [
    "#converting Reviews to Bag of words\r\n",
    "pertubation_X_tr=final_X_tr.copy()\r\n",
    "pertubation_X_tr.data = pertubation_X_tr.astype(float)\r\n",
    "pertubation_X_tr.data.data +=0.001\r\n",
    "\r\n",
    "# Training the model using best K    \r\n",
    "lr=LogisticRegression(C=C_best, penalty='l2')\r\n",
    "lr.fit(pertubation_X_tr.data, y_tr)\r\n",
    "after_pb=lr.coef_[0]\r\n",
    "\r\n",
    "before_pb = before_pb + 10**-6\r\n",
    "after_pb = after_pb + 10**-6\r\n",
    "l=[]\r\n",
    "for i in range(len(before_pb)):\r\n",
    "    l.append(((before_pb[i]-after_pb[i])/before_pb[i])*10)\r\n",
    "    \r\n",
    "\r\n",
    "original_per_vector=np.absolute(l)      \r\n",
    "per_vector=sorted(np.absolute(l))[::-1]\r\n",
    "print(per_vector[:10])"
   ],
   "outputs": [
    {
     "output_type": "stream",
     "name": "stdout",
     "text": [
      "[4.123191377216467, 3.884931862567291, 3.817727556405841, 3.366790187477929, 2.7081383497224327, 2.7081383497224327, 2.7081383497224327, 2.7081383497224327, 2.604086020991703, 2.604086020991703]\n"
     ]
    }
   ],
   "metadata": {
    "colab": {},
    "colab_type": "code",
    "id": "E1c5B1nELPpF"
   }
  },
  {
   "cell_type": "code",
   "execution_count": 48,
   "source": [
    "#calculating percentiles from 0 to 100\r\n",
    "for i in range(11):\r\n",
    "    print(str(i*10)+'th percentile = ' + str(np.percentile(per_vector,i*10)))"
   ],
   "outputs": [
    {
     "output_type": "stream",
     "name": "stdout",
     "text": [
      "0th percentile = 3.436709492509649e-07\n",
      "10th percentile = 0.0007739355772040787\n",
      "20th percentile = 0.0016134394962728043\n",
      "30th percentile = 0.002550734513864758\n",
      "40th percentile = 0.0037491003408356752\n",
      "50th percentile = 0.005179875116548358\n",
      "60th percentile = 0.007109577820014127\n",
      "70th percentile = 0.01015890241445059\n",
      "80th percentile = 0.016343401160055178\n",
      "90th percentile = 0.061320463100961675\n",
      "100th percentile = 4.123191377216467\n"
     ]
    }
   ],
   "metadata": {}
  },
  {
   "cell_type": "code",
   "execution_count": 49,
   "source": [
    "#there is sudden rise in percentile from 90 to 100\r\n",
    "#calculating percentile from 90 to 100\r\n",
    "for i in range(90,101):\r\n",
    "    print(str(i)+'th percentile ='+str(np.percentile(per_vector,i)))"
   ],
   "outputs": [
    {
     "output_type": "stream",
     "name": "stdout",
     "text": [
      "90th percentile =0.061320463100961675\n",
      "91th percentile =0.09211417052315493\n",
      "92th percentile =0.1167790536289873\n",
      "93th percentile =0.15257964168237875\n",
      "94th percentile =0.2358463243455459\n",
      "95th percentile =0.38314199783652303\n",
      "96th percentile =0.5565639999574119\n",
      "97th percentile =0.7690760236946829\n",
      "98th percentile =0.9973028066436309\n",
      "99th percentile =1.1978514559391475\n",
      "100th percentile =4.123191377216467\n"
     ]
    }
   ],
   "metadata": {}
  },
  {
   "cell_type": "code",
   "execution_count": 50,
   "source": [
    "#from 99th percentile to 100 percentile sudden rise in the values from 0.498 to 10\r\n",
    "#calculating percentile from 99.1 to 100\r\n",
    "for i in range(1,11):\r\n",
    "    print(str(99+(10**-1)*i)+'th percentile ='+str(np.percentile(per_vector,99+(10**-1)*i)))\r\n",
    "\r\n"
   ],
   "outputs": [
    {
     "output_type": "stream",
     "name": "stdout",
     "text": [
      "99.1th percentile =1.227276457047317\n",
      "99.2th percentile =1.2527810992966866\n",
      "99.3th percentile =1.284873809462195\n",
      "99.4th percentile =1.3030137097759171\n",
      "99.5th percentile =1.4286824525881037\n",
      "99.6th percentile =1.491215252264209\n",
      "99.7th percentile =1.5351173197784216\n",
      "99.8th percentile =1.6504765012716782\n",
      "99.9th percentile =2.4545071645066394\n",
      "100.0th percentile =4.123191377216467\n"
     ]
    }
   ],
   "metadata": {}
  },
  {
   "cell_type": "code",
   "execution_count": 51,
   "source": [
    "#100th percentile's percentage increment=48.327>2.5\r\n",
    "original_per_vect=original_per_vector.tolist()\r\n",
    "all_features = count_vect.get_feature_names()\r\n",
    "indx=original_per_vect.index(np.percentile(per_vector,100))\r\n",
    "\r\n",
    "print(all_features[indx])"
   ],
   "outputs": [
    {
     "output_type": "stream",
     "name": "stdout",
     "text": [
      "handle\n"
     ]
    }
   ],
   "metadata": {}
  },
  {
   "cell_type": "markdown",
   "source": [
    "### [5.1.3] Feature Importance on BOW,<font color='red'> SET 1</font>"
   ],
   "metadata": {
    "colab_type": "text",
    "id": "eB1rF0BQLPpG"
   }
  },
  {
   "cell_type": "markdown",
   "source": [
    "#### [5.1.3.1] Top 10 important features of positive class from<font color='red'> SET 1</font>"
   ],
   "metadata": {
    "colab_type": "text",
    "id": "JZTP19dqLPpI"
   }
  },
  {
   "cell_type": "code",
   "execution_count": 52,
   "source": [
    "# Please write all the code with proper documentation\r\n",
    "\r\n",
    "all_features=count_vect.get_feature_names()\r\n",
    "d={}\r\n",
    "for i in range(len(all_features)):\r\n",
    "    d.update({all_features[i]:before_pb[i]})\r\n",
    "pos_nev=sorted(d.items(), key = lambda kv:(kv[1], kv[0]))\r\n",
    "\r\n",
    "    \r\n",
    "print(\"top 10 postive features: \")    \r\n",
    "for i in range(10):\r\n",
    "    print((pos_nev[-1*(i+1)][0]))\r\n"
   ],
   "outputs": [
    {
     "output_type": "stream",
     "name": "stdout",
     "text": [
      "top 10 postive features: \n",
      "delicious\n",
      "perfect\n",
      "excellent\n",
      "pleased\n",
      "happy\n",
      "best\n",
      "great\n",
      "highly\n",
      "nice\n",
      "amazing\n"
     ]
    }
   ],
   "metadata": {
    "colab": {},
    "colab_type": "code",
    "id": "oGRpCVJgLPpI"
   }
  },
  {
   "cell_type": "markdown",
   "source": [
    "#### [5.1.3.2] Top 10 important features of negative class from<font color='red'> SET 1</font>"
   ],
   "metadata": {
    "colab_type": "text",
    "id": "UJLYBE1gLPpJ"
   }
  },
  {
   "cell_type": "code",
   "execution_count": 53,
   "source": [
    "# Please write all the code with proper documentation\r\n",
    "print(\"top 10 negative features: \")\r\n",
    "for i in range(11):\r\n",
    "    print((pos_nev[i][0]))"
   ],
   "outputs": [
    {
     "output_type": "stream",
     "name": "stdout",
     "text": [
      "top 10 negative features: \n",
      "disappointing\n",
      "disappointed\n",
      "awful\n",
      "terrible\n",
      "tasteless\n",
      "grounds\n",
      "ingredient\n",
      "undrinkable\n",
      "return\n",
      "waste\n",
      "weak\n"
     ]
    }
   ],
   "metadata": {
    "colab": {},
    "colab_type": "code",
    "id": "c9r7Zjx1LPpK"
   }
  },
  {
   "cell_type": "code",
   "execution_count": null,
   "source": [
    "# JoB done (Few Cases did More to come)"
   ],
   "outputs": [],
   "metadata": {}
  },
  {
   "cell_type": "code",
   "execution_count": null,
   "source": [],
   "outputs": [],
   "metadata": {}
  }
 ],
 "metadata": {
  "colab": {
   "name": "05 Amazon Fine Food Reviews Analysis_Logistic Regression.ipynb",
   "provenance": []
  },
  "kernelspec": {
   "name": "python3",
   "display_name": "Python 3.8.5 64-bit ('base': conda)"
  },
  "language_info": {
   "codemirror_mode": {
    "name": "ipython",
    "version": 3
   },
   "file_extension": ".py",
   "mimetype": "text/x-python",
   "name": "python",
   "nbconvert_exporter": "python",
   "pygments_lexer": "ipython3",
   "version": "3.8.5"
  },
  "interpreter": {
   "hash": "5f3d98ee6b45aa0083ea5efe9bb1efa1c702805f858e8e7a38dd5e19927487ad"
  }
 },
 "nbformat": 4,
 "nbformat_minor": 1
}